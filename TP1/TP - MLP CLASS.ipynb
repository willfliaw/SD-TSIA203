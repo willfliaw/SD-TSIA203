{
  "cells": [
    {
      "cell_type": "markdown",
      "metadata": {
        "id": "WpYK9fIlyZCq"
      },
      "source": [
        "# Lab Deep Learning / Multi-Layer Perceptron for classification / in pytorch\n",
        "\n",
        "**Author: geoffroy.peeters@telecom-paris.fr**\n",
        "\n",
        "For any remark or suggestion, please feel free to contact me.\n",
        "\n",
        "Last edit: 2020/04/27 peeters\n",
        "\n",
        "Read the \"introduction to pytorch\" slides first: https://perso.telecom-paristech.fr/gpeeters/doc/pytorch/\n",
        "\n",
        "**Is is recommended that you first perform the ```Lab Deep Learning / Multi-Layer Perceptron for regression / in pytorch``` Lab to understand how to write a Neural Network in pytorch.**\n",
        "\n",
        "\n",
        "## Objective:\n",
        "\n",
        "The objective of this lab is to develop a two hidden layers MLP to perform image **classification**.\n",
        "\n",
        "While the previous Lab ```Lab Deep Learning / Multi-Layer Perceptron for regression / in pytorch``` focused on how to write a Neural Network, the present Lab focuses on managing datasets and splitting training and testing .\n",
        "\n",
        "We will use MNIST for the image dataset.\n",
        "\n",
        "## Your task:\n",
        "\n",
        "You need to add the missing parts in the code (parts between ```# --- START CODE HERE``` and ```# --- END CODE HERE```)\n",
        "\n",
        "## Documentation:\n",
        "- NN: https://pytorch.org/docs/stable/nn.html\n",
        "- Autograd: https://pytorch.org/docs/stable/autograd.html\n",
        "- Optim: https://pytorch.org/docs/stable/optim.html\n"
      ]
    },
    {
      "cell_type": "code",
      "execution_count": 1,
      "metadata": {
        "id": "h6o3NZfNyZCt"
      },
      "outputs": [],
      "source": [
        "import matplotlib.pyplot as plt\n",
        "import torch\n",
        "import torch.nn as nn\n",
        "import torch.nn.functional as F\n",
        "import torch.optim as optim\n",
        "from torchvision import datasets, transforms"
      ]
    },
    {
      "cell_type": "markdown",
      "metadata": {
        "id": "Vy7u-IVkyZCu"
      },
      "source": [
        "## Data management\n",
        "\n",
        "It is common to separate the datasets into\n",
        "- a **training** part (used to find the network parameters which minimize the loss)\n",
        "- a **test part** (used to estimate the performances).\n",
        "\n",
        "The training part can itself be further splitted into a training and a validation part (the validation part is then used to fix the hyper-parameters of the system).\n",
        "\n",
        "When performing ```batch gradient descent``` the whole training set is used to compute the gradients (which itself is used for the parameter optimization).\n",
        "However when performing ```stochastic or mini-batch gradient descent``` only a part of the training data is used at each iteration.\n",
        "\n",
        "We therefore needs to write all the necessary code, to get these mini-batches of data, be sure that all data have been seen, potentially randomize the order of appearance of these data and potentially perform some modifications of the data before giving them to the network.\n",
        "\n",
        "Fortunatelly, pytorch has associated to it (but not included in it) a nice package (```torchvision```) which allows to do all that for us.\n",
        "\n",
        "This package allows to perform these process for any datasets but has a pre-tuned method for the ```MNIST```datasets.\n",
        "\n",
        "### Datasets\n",
        "\n",
        "In the following we will us ```datasets.MNIST``` to load the train and test data.\n",
        "\n",
        "We need to tell it to download the data, where to dowload them and if we want the training or the testing part of it.\n",
        "\n",
        "We then tell it if we want to apply some transformations to the data.\n",
        "\n",
        "For this lab, we will transform the data by\n",
        "- 1) transforming them to torch tensors (using ```transforms.ToTensor()```); since by default they are not torch tensors\n",
        "- 2) normalize them to zero mean and unit standard deviation (using ```transforms.Normalize()```).\n",
        "\n",
        "It is of course possible to also apply data augmentation.\n",
        "\n",
        "Since we have several transforms to be performed, we will compose them using ```transforms.Compose([transform1, transform2])```\n",
        "\n",
        "The corresponding datasets is a class which contains the pairs of [input tensors $X$, corresponding ground-truth label $y$].\n",
        "\n",
        "### Dataloader\n",
        "\n",
        "Another nice pytorch facility is the ```Dataloader``` which transforms the dataset to be used as an iterator (i.e. within ```for data in myDataloader: ```).\n",
        "\n",
        "Moreover, ```Dataloader``` allows to specify\n",
        "- how many data will be provided each time it is called (```batch_size```)\n",
        "- if the order of appearance of the data with be random (````shuffle````).\n",
        "\n",
        "We therefore convert our datasets (train and test) to ```DataLoader``` that are directly used as iterator during the iterations (it DataLoader manage directly the mini-batch and shuffling)."
      ]
    },
    {
      "cell_type": "code",
      "execution_count": 2,
      "metadata": {
        "id": "zsSEvakPyZCv"
      },
      "outputs": [],
      "source": [
        "# --- START CODE HERE\n",
        "batch_size = 64\n",
        "\n",
        "train_set = datasets.MNIST(\n",
        "    root=\"./content\",\n",
        "    train=True,\n",
        "    transform=transforms.Compose([transforms.ToTensor(), transforms.Normalize(0, 1)]),\n",
        "    download=True,\n",
        ")\n",
        "train_loader = torch.utils.data.DataLoader(\n",
        "    train_set, batch_size=batch_size, shuffle=True\n",
        ")\n",
        "\n",
        "test_set = datasets.MNIST(\n",
        "    root=\"./content\",\n",
        "    train=False,\n",
        "    transform=transforms.Compose([transforms.ToTensor(), transforms.Normalize(0, 1)]),\n",
        "    download=True,\n",
        ")\n",
        "test_loader = torch.utils.data.DataLoader(test_set, batch_size=batch_size, shuffle=True)\n",
        "# --- END CODE HERE"
      ]
    },
    {
      "cell_type": "code",
      "execution_count": 3,
      "metadata": {
        "colab": {
          "base_uri": "https://localhost:8080/",
          "height": 240
        },
        "id": "FFuEXr0tyZCw",
        "outputId": "59ad5329-e7b3-4dd3-f0f7-79bbbcfde7f7"
      },
      "outputs": [
        {
          "name": "stdout",
          "output_type": "stream",
          "text": [
            "dataset type: <class 'torchvision.datasets.mnist.MNIST'>\n",
            "dataset size: 60000\n",
            "X data: torch.Size([1, 28, 28])\n",
            "y data: 5\n"
          ]
        }
      ],
      "source": [
        "print(\"dataset type: {}\".format(type(train_set)))\n",
        "print(\"dataset size: {}\".format(len(train_set)))\n",
        "print(\"X data: {}\".format(train_set[0][0].size()))\n",
        "print(\"y data: {}\".format(train_set[0][1]))"
      ]
    },
    {
      "cell_type": "markdown",
      "metadata": {
        "id": "piAf25dxyZCx"
      },
      "source": [
        "### Display the first 5 data of MNIST dataset."
      ]
    },
    {
      "cell_type": "code",
      "execution_count": 4,
      "metadata": {
        "id": "Jsa2MAEhyZCx"
      },
      "outputs": [
        {
          "data": {
            "image/png": "[encoded data removed]",
            "text/plain": [
              "<Figure size 640x480 with 5 Axes>"
            ]
          },
          "metadata": {},
          "output_type": "display_data"
        }
      ],
      "source": [
        "# ------------------------------------\n",
        "for num in range(0, 5):\n",
        "    one_data = next(iter(train_loader))\n",
        "    plt.subplot(1, 5, num + 1)\n",
        "    plt.imshow(one_data[0][0][0, :, :])\n",
        "    plt.title(one_data[1][0].item())\n",
        "\n",
        "plt.tight_layout()\n",
        "plt.show()"
      ]
    },
    {
      "cell_type": "markdown",
      "metadata": {
        "id": "bo6-KX8UyZCy"
      },
      "source": [
        "## Network setting\n",
        "\n",
        "While image classification, is usually performed using Convolutional Neural Networks, we will use here a Multi-Layer-Perceptron (also named ```fully-connected```).\n",
        "For this, we will flatten (i.e. convert the iamge 2D matrix to a 1D vector) the input images.\n",
        "\n",
        "- The input images are of size 28*28 and are converted to vectors of size ```n_in```=784.\n",
        "\n",
        "- The two hidden layers have````n_h1````=500 and ```n_h2```=256 unit/neurons each and ```Relu```activations.\n",
        "\n",
        "- The output are the ```n_out```=10 classes (the 10 digits to be recognized).\n",
        "\n",
        "Since we deal with a muti-class problem (10 classes), the output activations is therefore a ```softmax```.\n",
        "\n",
        "Note that since the ```softmax```output will be given to a ```cross-entropy```, the ```log```et the latter can be directly added to the ```softmax```. This leads to the pytorch function ```F.log_softmax```.\n"
      ]
    },
    {
      "cell_type": "code",
      "execution_count": 5,
      "metadata": {
        "id": "H0uIIQb9yZCy"
      },
      "outputs": [],
      "source": [
        "class Net(nn.Module):\n",
        "    def __init__(self):\n",
        "        n_in = 28 * 28\n",
        "        n_h1 = 500\n",
        "        n_h2 = 256\n",
        "        n_out = 10\n",
        "        super(Net, self).__init__()\n",
        "        # --- START CODE HERE\n",
        "        self.fc1 = nn.Linear(n_in, n_h1)\n",
        "        self.fc2 = nn.Linear(n_h1, n_h2)\n",
        "        self.fc3 = nn.Linear(n_h2, n_out)\n",
        "        self.relu = nn.ReLU()\n",
        "        # --- END CODE HERE\n",
        "\n",
        "    def forward(self, x):\n",
        "        # --- START CODE HERE\n",
        "        x = x.view(-1, 28 * 28)\n",
        "        x = self.fc1(x)\n",
        "        x = self.relu(x)\n",
        "        x = self.fc2(x)\n",
        "        x = self.relu(x)\n",
        "        x = self.fc3(x)\n",
        "        # --- END CODE HERE\n",
        "        return F.log_softmax(x, dim=1)"
      ]
    },
    {
      "cell_type": "markdown",
      "metadata": {
        "id": "x7qcgKFwyZCz"
      },
      "source": [
        "## Defining the train and test functions\n",
        "\n",
        "In the present lab, we distinguish between train and test data.\n",
        "We therefore write\n",
        "- a train function (to learn the network parameters on the train data),\n",
        "- a test function (to evaluate the network's performances on the test data).\n",
        "\n",
        "The ```train``` and ```test```function will perform the computation for a given ```epoch```.\n",
        "The functions therefore only need to ```loop over``` the mini-batches.\n",
        "This is now easy since we defined our ```Dataloader```for train and test.\n",
        "\n",
        "For the train function, for each mini-batch, we  \n",
        "- compute the forward pass by passing the data to the model: haty = model(x)\n",
        "- compute the the loss (the criterion)\n",
        "- putting at zero the gradients of all the parameters of the network (this is important since, by default, pytorch accumulate the gradients over time)\n",
        "- computing the backpropagation (using as before .backward())\n",
        "- performing one step of optimization (using .step())\n",
        "\n",
        "For the train function, we set the model to train mode (```model.train()```). This allows to set some specific behaviours for training (such as activate the dropout).\n",
        "\n",
        "For the test function, we set the model to train mode (```model.eval()```). This allows to set some specific behaviours for training (such as removing the dropout).\n",
        "\n",
        "\n",
        "Since we are dealing with a multi-class problem (10 classes), we will minimize as loss the ```cross-entropy``` (named negative-log-likelihood ```nll_loss```in pytorch).\n",
        "Since ```nll_loss```does not contains the ```log``` we have added it directly to the softmax by using the ```log_softmax```as output activation of our network.\n",
        "\n",
        "Note that we could use the loss from the nn package (```torch.nn.NLLLoss```) it is then a class which needs to be first instanciated.\n",
        "We can also use the same but as a function (```F.nll_loss()```) which can be used directly without instanciating the class."
      ]
    },
    {
      "cell_type": "code",
      "execution_count": 6,
      "metadata": {
        "id": "3dGuPt96yZCz"
      },
      "outputs": [],
      "source": [
        "def train(model, train_loader, optimizer, epoch):\n",
        "    model.train()\n",
        "    for batch_idx, (data, target) in enumerate(train_loader):\n",
        "        # --- START CODE HERE\n",
        "        y_pred = model(data)\n",
        "        loss = F.nll_loss(y_pred, target)\n",
        "        optimizer.zero_grad()\n",
        "        loss.backward()\n",
        "        optimizer.step()\n",
        "        # --- END CODE HERE\n",
        "\n",
        "        if batch_idx % 100 == 0:\n",
        "            print(\"epoch {}, loss {}\".format(epoch, loss.item()))"
      ]
    },
    {
      "cell_type": "code",
      "execution_count": 7,
      "metadata": {
        "id": "zI8QtzV2yZC0"
      },
      "outputs": [],
      "source": [
        "def test(model, test_loader):\n",
        "    model.eval()\n",
        "    test_loss = 0\n",
        "    correct = 0\n",
        "    with torch.no_grad():\n",
        "        for data, target in test_loader:\n",
        "            # --- START CODE HERE\n",
        "            y_pred = model(data)\n",
        "            test_loss += F.nll_loss(y_pred, target)\n",
        "            y_pred = torch.argmax(y_pred, dim=1)\n",
        "            correct += (y_pred == target).sum().item()\n",
        "            # --- STOP CODE HERE\n",
        "\n",
        "    test_loss /= len(test_loader.dataset)\n",
        "    correct /= len(test_loader.dataset)\n",
        "    print(\"\\nTest set: Average loss: {}, Accuracy: {}\\n\".format(test_loss, correct))"
      ]
    },
    {
      "cell_type": "markdown",
      "metadata": {
        "id": "9MXQIbcJyZC0"
      },
      "source": [
        "## Looping over epochs\n",
        "\n",
        "\n",
        "We finally define, how we will optimize our parameters by defining an optimizer.\n",
        "We will use here a very simple one: the SGD (```optim.SGD```) with a learning rate of 0.01.\n",
        "\n",
        "At each iteration, we then call the train and the test function."
      ]
    },
    {
      "cell_type": "code",
      "execution_count": 8,
      "metadata": {
        "id": "ofYcX05ZyZC0"
      },
      "outputs": [
        {
          "name": "stdout",
          "output_type": "stream",
          "text": [
            "epoch 1, loss 2.3008081912994385\n",
            "epoch 1, loss 1.003453254699707\n",
            "epoch 1, loss 0.44949060678482056\n",
            "epoch 1, loss 0.5585206747055054\n",
            "epoch 1, loss 0.25661763548851013\n",
            "epoch 1, loss 0.4076695144176483\n",
            "epoch 1, loss 0.1776805818080902\n",
            "epoch 1, loss 0.26459333300590515\n",
            "epoch 1, loss 0.40565577149391174\n",
            "epoch 1, loss 0.38218411803245544\n",
            "\n",
            "Test set: Average loss: 0.0033685779199004173, Accuracy: 0.936\n",
            "\n",
            "epoch 2, loss 0.23643025755882263\n",
            "epoch 2, loss 0.18982715904712677\n",
            "epoch 2, loss 0.16566582024097443\n",
            "epoch 2, loss 0.2079455703496933\n",
            "epoch 2, loss 0.10264790058135986\n",
            "epoch 2, loss 0.25001153349876404\n",
            "epoch 2, loss 0.14866895973682404\n",
            "epoch 2, loss 0.12638287246227264\n",
            "epoch 2, loss 0.16714631021022797\n",
            "epoch 2, loss 0.22983010113239288\n",
            "\n",
            "Test set: Average loss: 0.0021587361115962267, Accuracy: 0.9591\n",
            "\n",
            "epoch 3, loss 0.10856882482767105\n",
            "epoch 3, loss 0.10100391507148743\n",
            "epoch 3, loss 0.1490144282579422\n",
            "epoch 3, loss 0.3475651443004608\n",
            "epoch 3, loss 0.15388436615467072\n",
            "epoch 3, loss 0.05914577096700668\n",
            "epoch 3, loss 0.023173371329903603\n",
            "epoch 3, loss 0.1086752638220787\n",
            "epoch 3, loss 0.2187228798866272\n",
            "epoch 3, loss 0.025230199098587036\n",
            "\n",
            "Test set: Average loss: 0.0016222980339080095, Accuracy: 0.9675\n",
            "\n",
            "epoch 4, loss 0.07547838240861893\n",
            "epoch 4, loss 0.16047047078609467\n",
            "epoch 4, loss 0.13382238149642944\n",
            "epoch 4, loss 0.06075733155012131\n",
            "epoch 4, loss 0.09607602655887604\n",
            "epoch 4, loss 0.043834514915943146\n",
            "epoch 4, loss 0.03526253625750542\n",
            "epoch 4, loss 0.05425567552447319\n",
            "epoch 4, loss 0.1219448670744896\n",
            "epoch 4, loss 0.1638825684785843\n",
            "\n",
            "Test set: Average loss: 0.0014155926182866096, Accuracy: 0.9713\n",
            "\n",
            "epoch 5, loss 0.040845416486263275\n",
            "epoch 5, loss 0.05274481326341629\n",
            "epoch 5, loss 0.05195405334234238\n",
            "epoch 5, loss 0.07627439498901367\n",
            "epoch 5, loss 0.3185201585292816\n",
            "epoch 5, loss 0.07805125415325165\n",
            "epoch 5, loss 0.024799419566988945\n",
            "epoch 5, loss 0.04201464354991913\n",
            "epoch 5, loss 0.0393080897629261\n",
            "epoch 5, loss 0.03763098642230034\n",
            "\n",
            "Test set: Average loss: 0.0012371523771435022, Accuracy: 0.9752\n",
            "\n",
            "epoch 6, loss 0.09374314546585083\n",
            "epoch 6, loss 0.017613327130675316\n",
            "epoch 6, loss 0.03518108278512955\n",
            "epoch 6, loss 0.05716852843761444\n",
            "epoch 6, loss 0.07972341030836105\n",
            "epoch 6, loss 0.012030546553432941\n",
            "epoch 6, loss 0.020867066457867622\n",
            "epoch 6, loss 0.09740512073040009\n",
            "epoch 6, loss 0.030695278197526932\n",
            "epoch 6, loss 0.04341714829206467\n",
            "\n",
            "Test set: Average loss: 0.0010451009729877114, Accuracy: 0.978\n",
            "\n",
            "epoch 7, loss 0.03909645974636078\n",
            "epoch 7, loss 0.005184999667108059\n",
            "epoch 7, loss 0.05202970653772354\n",
            "epoch 7, loss 0.034064944833517075\n",
            "epoch 7, loss 0.008703588508069515\n",
            "epoch 7, loss 0.10646869987249374\n",
            "epoch 7, loss 0.17604508996009827\n",
            "epoch 7, loss 0.04791197553277016\n",
            "epoch 7, loss 0.031026965007185936\n",
            "epoch 7, loss 0.0348789282143116\n",
            "\n",
            "Test set: Average loss: 0.0010703952284529805, Accuracy: 0.9774\n",
            "\n",
            "epoch 8, loss 0.07157964259386063\n",
            "epoch 8, loss 0.04740860313177109\n",
            "epoch 8, loss 0.03404983505606651\n",
            "epoch 8, loss 0.03144798427820206\n",
            "epoch 8, loss 0.04860133305191994\n",
            "epoch 8, loss 0.009271379560232162\n",
            "epoch 8, loss 0.013316926546394825\n",
            "epoch 8, loss 0.006708718836307526\n",
            "epoch 8, loss 0.015339112840592861\n",
            "epoch 8, loss 0.0413840189576149\n",
            "\n",
            "Test set: Average loss: 0.0009719333611428738, Accuracy: 0.9808\n",
            "\n",
            "epoch 9, loss 0.017901910468935966\n",
            "epoch 9, loss 0.028289658948779106\n",
            "epoch 9, loss 0.01705634780228138\n",
            "epoch 9, loss 0.004435405600816011\n",
            "epoch 9, loss 0.021451886743307114\n",
            "epoch 9, loss 0.005167163908481598\n",
            "epoch 9, loss 0.01329908985644579\n",
            "epoch 9, loss 0.03809330612421036\n",
            "epoch 9, loss 0.039241258054971695\n",
            "epoch 9, loss 0.0060901278629899025\n",
            "\n",
            "Test set: Average loss: 0.0009322260739281774, Accuracy: 0.9811\n",
            "\n",
            "epoch 10, loss 0.038469716906547546\n",
            "epoch 10, loss 0.009292238391935825\n",
            "epoch 10, loss 0.01694313995540142\n",
            "epoch 10, loss 0.01589718461036682\n",
            "epoch 10, loss 0.016947103664278984\n",
            "epoch 10, loss 0.040182773023843765\n",
            "epoch 10, loss 0.0014829632127657533\n",
            "epoch 10, loss 0.0008799270144663751\n",
            "epoch 10, loss 0.01874736323952675\n",
            "epoch 10, loss 0.005293649155646563\n",
            "\n",
            "Test set: Average loss: 0.0009252317249774933, Accuracy: 0.9812\n",
            "\n"
          ]
        }
      ],
      "source": [
        "model = Net()\n",
        "optimizer = optim.SGD(model.parameters(), lr=0.01, momentum=0.9)\n",
        "nb_epoch = 10\n",
        "for epoch in range(1, nb_epoch + 1):\n",
        "    # --- START CODE HERE\n",
        "    train(model, train_loader, optimizer, epoch)\n",
        "    test(model, test_loader)\n",
        "    # --- END CODE HERE"
      ]
    }
  ],
  "metadata": {
    "colab": {
      "provenance": []
    },
    "kernelspec": {
      "display_name": "Python 3",
      "language": "python",
      "name": "python3"
    },
    "language_info": {
      "codemirror_mode": {
        "name": "ipython",
        "version": 3
      },
      "file_extension": ".py",
      "mimetype": "text/x-python",
      "name": "python",
      "nbconvert_exporter": "python",
      "pygments_lexer": "ipython3",
      "version": "3.12.3"
    },
    "toc": {
      "base_numbering": 1,
      "nav_menu": {},
      "number_sections": true,
      "sideBar": true,
      "skip_h1_title": false,
      "title_cell": "Table of Contents",
      "title_sidebar": "Contents",
      "toc_cell": false,
      "toc_position": {
        "height": "calc(100% - 180px)",
        "left": "10px",
        "top": "150px",
        "width": "165px"
      },
      "toc_section_display": true,
      "toc_window_display": false
    }
  },
  "nbformat": 4,
  "nbformat_minor": 0
}
